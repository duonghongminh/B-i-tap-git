{
 "cells": [
  {
   "cell_type": "code",
   "execution_count": 1,
   "id": "f189f88f",
   "metadata": {},
   "outputs": [
    {
     "name": "stdout",
     "output_type": "stream",
     "text": [
      "Ho va ten: Duong Hong Minh\n",
      "Sinh ngay: 12 thang 06 nam 1986\n",
      "Dia chi: Son Tra, Da Nang\n",
      "Ly do hoc python: Vi muon hoc phan tich du lieu\n"
     ]
    }
   ],
   "source": [
    "print(\"Ho va ten: Duong Hong Minh\")\n",
    "print(\"Sinh ngay: 12 thang 06 nam 1986\")\n",
    "print(\"Dia chi: Son Tra, Da Nang\")\n",
    "print(\"Ly do hoc python: Vi muon hoc phan tich du lieu\")\n"
   ]
  }
 ],
 "metadata": {
  "kernelspec": {
   "display_name": "Python 3 (ipykernel)",
   "language": "python",
   "name": "python3"
  },
  "language_info": {
   "codemirror_mode": {
    "name": "ipython",
    "version": 3
   },
   "file_extension": ".py",
   "mimetype": "text/x-python",
   "name": "python",
   "nbconvert_exporter": "python",
   "pygments_lexer": "ipython3",
   "version": "3.9.7"
  }
 },
 "nbformat": 4,
 "nbformat_minor": 5
}
